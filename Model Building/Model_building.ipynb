{
  "cells": [
    {
      "cell_type": "markdown",
      "metadata": {
        "id": "9X5arErbrHaa"
      },
      "source": [
        "Importing the required libraries"
      ]
    },
    {
      "cell_type": "code",
      "execution_count": 1,
      "metadata": {
        "id": "yakvEN4GrHag"
      },
      "outputs": [],
      "source": [
        "import numpy as np\n",
        "import tensorflow #open source used for both ML and DL for computation\n",
        "from tensorflow.keras.datasets import mnist #mnist dataset\n",
        "from tensorflow.keras.models import Sequential #it is a plain stack of layers\n",
        "from tensorflow.keras import layers #A Layer consists of a tensor- in tensor-out computat ion funct ion\n",
        "from tensorflow.keras.layers import Dense, Flatten #Dense-Dense Layer is the regular deeply connected r\n",
        "#faltten -used fot flattening the input or change the dimension\n",
        "from tensorflow.keras.layers import Conv2D #onvoLutiona l Layer\n",
        "from keras.optimizers import Adam #opt imizer\n",
        "from keras. utils import np_utils #used for one-hot encoding\n",
        "import matplotlib.pyplot as plt   #used for data visualization"
      ]
    },
    {
      "cell_type": "code",
      "execution_count": 2,
      "metadata": {
        "id": "G6bvTcHArHah",
        "colab": {
          "base_uri": "https://localhost:8080/"
        },
        "outputId": "e82aaff5-cc01-4ec6-fe03-1afb0a0d0735"
      },
      "outputs": [
        {
          "output_type": "stream",
          "name": "stdout",
          "text": [
            "Downloading data from https://storage.googleapis.com/tensorflow/tf-keras-datasets/mnist.npz\n",
            "11490434/11490434 [==============================] - 1s 0us/step\n"
          ]
        }
      ],
      "source": [
        "(x_train, y_train), (x_test, y_test)=mnist.load_data ()\n",
        "x_train=x_train.reshape (60000, 28, 28, 1).astype('float32')\n",
        "x_test=x_test.reshape (10000, 28, 28, 1).astype ('float32')\n",
        "number_of_classes = 10  #storing the no of classes in a variable\n",
        "y_train = np_utils.to_categorical (y_train, number_of_classes) #converts the output in binary format\n",
        "y_test = np_utils.to_categorical (y_test, number_of_classes)"
      ]
    },
    {
      "cell_type": "markdown",
      "metadata": {
        "id": "AeLhwN-1rHai"
      },
      "source": [
        "Add CNN Layers"
      ]
    },
    {
      "cell_type": "code",
      "execution_count": 3,
      "metadata": {
        "id": "A5V5e7DWrHaj"
      },
      "outputs": [],
      "source": [
        "#create model\n",
        "model=Sequential ()"
      ]
    },
    {
      "cell_type": "code",
      "execution_count": 4,
      "metadata": {
        "id": "cybCEvHDrHaj"
      },
      "outputs": [],
      "source": [
        "#adding modeL Layer\n",
        "model.add(Conv2D(64, (3, 3), input_shape=(28, 28, 1), activation='relu'))\n",
        "model.add(Conv2D(32, (3, 3), activation = 'relu'))"
      ]
    },
    {
      "cell_type": "code",
      "execution_count": 5,
      "metadata": {
        "id": "UPLpEeDdrHak"
      },
      "outputs": [],
      "source": [
        "#flatten the dimension of the image\n",
        "model.add(Flatten())"
      ]
    },
    {
      "cell_type": "code",
      "execution_count": 6,
      "metadata": {
        "id": "kQRAIk9_rHal"
      },
      "outputs": [],
      "source": [
        "#output layer with 10 neurons\n",
        "model.add(Dense(number_of_classes,activation = 'softmax'))"
      ]
    },
    {
      "cell_type": "markdown",
      "metadata": {
        "id": "1Bfuj3LrrHal"
      },
      "source": [
        "Compiling the model"
      ]
    },
    {
      "cell_type": "code",
      "execution_count": 7,
      "metadata": {
        "id": "WKELMwLzrHam"
      },
      "outputs": [],
      "source": [
        "#Compile model\n",
        "model.compile(loss= 'categorical_crossentropy', optimizer=\"Adam\", metrics=['accuracy'])"
      ]
    },
    {
      "cell_type": "code",
      "execution_count": 8,
      "metadata": {
        "id": "xJ9SyoAUrHan"
      },
      "outputs": [],
      "source": [
        "x_train = np.asarray(x_train)\n",
        "y_train = np.asarray(y_train)"
      ]
    },
    {
      "cell_type": "markdown",
      "metadata": {
        "id": "I5_W4noRrHan"
      },
      "source": [
        "Train the model"
      ]
    },
    {
      "cell_type": "code",
      "execution_count": 9,
      "metadata": {
        "id": "bTYoQ-6yrHan",
        "outputId": "6314454c-d9ab-4c7b-d720-cc9c21975cb6",
        "colab": {
          "base_uri": "https://localhost:8080/"
        }
      },
      "outputs": [
        {
          "output_type": "stream",
          "name": "stdout",
          "text": [
            "Epoch 1/5\n",
            "1875/1875 [==============================] - 139s 74ms/step - loss: 0.2220 - accuracy: 0.9549 - val_loss: 0.0708 - val_accuracy: 0.9771\n",
            "Epoch 2/5\n",
            "1875/1875 [==============================] - 138s 74ms/step - loss: 0.0592 - accuracy: 0.9820 - val_loss: 0.1025 - val_accuracy: 0.9739\n",
            "Epoch 3/5\n",
            "1875/1875 [==============================] - 137s 73ms/step - loss: 0.0415 - accuracy: 0.9869 - val_loss: 0.0806 - val_accuracy: 0.9773\n",
            "Epoch 4/5\n",
            "1875/1875 [==============================] - 137s 73ms/step - loss: 0.0308 - accuracy: 0.9905 - val_loss: 0.1030 - val_accuracy: 0.9757\n",
            "Epoch 5/5\n",
            "1875/1875 [==============================] - 144s 77ms/step - loss: 0.0263 - accuracy: 0.9914 - val_loss: 0.0864 - val_accuracy: 0.9800\n"
          ]
        },
        {
          "output_type": "execute_result",
          "data": {
            "text/plain": [
              "<keras.callbacks.History at 0x7f06576f18d0>"
            ]
          },
          "metadata": {},
          "execution_count": 9
        }
      ],
      "source": [
        "#fit the model\n",
        "model.fit(x_train, y_train, validation_data=(x_test, y_test), epochs=5, batch_size=32)"
      ]
    },
    {
      "cell_type": "markdown",
      "metadata": {
        "id": "EZCyRJazrHao"
      },
      "source": [
        "Observing the metrics\n"
      ]
    },
    {
      "cell_type": "code",
      "execution_count": 10,
      "metadata": {
        "id": "N3NhfQ9CrHap",
        "outputId": "7e6368e9-01af-422b-d3fb-72f3da59a94b",
        "colab": {
          "base_uri": "https://localhost:8080/"
        }
      },
      "outputs": [
        {
          "output_type": "stream",
          "name": "stdout",
          "text": [
            "Metrics (Test loss &Test Accuracy) : \n",
            "[0.08638475090265274, 0.9800000190734863]\n"
          ]
        }
      ],
      "source": [
        "# Final evaluation of the model\n",
        "metrics = model.evaluate(x_test, y_test, verbose=0)\n",
        "print(\"Metrics (Test loss &Test Accuracy) : \")\n",
        "print(metrics)"
      ]
    },
    {
      "cell_type": "markdown",
      "source": [
        "Testing the Model"
      ],
      "metadata": {
        "id": "4s4La6-Vumv4"
      }
    },
    {
      "cell_type": "code",
      "execution_count": 18,
      "metadata": {
        "id": "RWckpiLbrHap",
        "outputId": "7ca36e61-d0eb-4041-ee60-547dfee317e4",
        "colab": {
          "base_uri": "https://localhost:8080/"
        }
      },
      "outputs": [
        {
          "output_type": "stream",
          "name": "stdout",
          "text": [
            "1/1 [==============================] - 0s 16ms/step\n",
            "[[9.66604227e-12 5.75857016e-13 2.26566665e-11 8.04436922e-07\n",
            "  2.30484735e-03 8.09294397e-06 7.81364990e-14 1.19857905e-04\n",
            "  4.38878807e-04 9.97127593e-01]]\n"
          ]
        }
      ],
      "source": [
        "prediction=model.predict(x_test[6000:6001])\n",
        "print(prediction)"
      ]
    },
    {
      "cell_type": "code",
      "execution_count": 14,
      "metadata": {
        "id": "-_puisqorHaq",
        "outputId": "aa9e24a5-fc7a-4f13-8dcf-79f3d1cabb52",
        "colab": {
          "base_uri": "https://localhost:8080/"
        }
      },
      "outputs": [
        {
          "output_type": "stream",
          "name": "stdout",
          "text": [
            "[9]\n"
          ]
        }
      ],
      "source": [
        "import numpy as np\n",
        "print(np.argmax(prediction, axis=1)) #printing our Labels from first 4 images"
      ]
    },
    {
      "cell_type": "code",
      "execution_count": 15,
      "metadata": {
        "id": "tMA9shmPrHaq",
        "outputId": "c58e94ac-e684-4571-923b-cfe283ce312d",
        "colab": {
          "base_uri": "https://localhost:8080/"
        }
      },
      "outputs": [
        {
          "output_type": "execute_result",
          "data": {
            "text/plain": [
              "9"
            ]
          },
          "metadata": {},
          "execution_count": 15
        }
      ],
      "source": [
        "np.argmax(y_test[5100:5101]) #printing the actual labels"
      ]
    },
    {
      "cell_type": "markdown",
      "metadata": {
        "id": "6Py6M1QqrHaq"
      },
      "source": [
        "Save The model"
      ]
    },
    {
      "cell_type": "code",
      "execution_count": 16,
      "metadata": {
        "id": "IHT-MDILrHar"
      },
      "outputs": [],
      "source": [
        "# Save the model\n",
        "model.save('models/mnistCNN.h5')"
      ]
    }
  ],
  "metadata": {
    "kernelspec": {
      "display_name": "Python 3.9.7 64-bit",
      "language": "python",
      "name": "python3"
    },
    "language_info": {
      "codemirror_mode": {
        "name": "ipython",
        "version": 3
      },
      "file_extension": ".py",
      "mimetype": "text/x-python",
      "name": "python",
      "nbconvert_exporter": "python",
      "pygments_lexer": "ipython3",
      "version": "3.9.7"
    },
    "orig_nbformat": 4,
    "vscode": {
      "interpreter": {
        "hash": "70bf645af839504a8f667265ac2337c3eed27c452ef5a430a18f6fc19cd5dbcd"
      }
    },
    "colab": {
      "provenance": []
    }
  },
  "nbformat": 4,
  "nbformat_minor": 0
}